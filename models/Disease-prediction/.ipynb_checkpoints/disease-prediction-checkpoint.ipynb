{
 "cells": [
  {
   "cell_type": "code",
   "execution_count": 1,
   "id": "b65a4997",
   "metadata": {
    "execution": {
     "iopub.execute_input": "2023-12-20T11:09:41.468933Z",
     "iopub.status.busy": "2023-12-20T11:09:41.468296Z",
     "iopub.status.idle": "2023-12-20T11:09:44.090548Z",
     "shell.execute_reply": "2023-12-20T11:09:44.089357Z"
    },
    "papermill": {
     "duration": 2.63464,
     "end_time": "2023-12-20T11:09:44.093685",
     "exception": false,
     "start_time": "2023-12-20T11:09:41.459045",
     "status": "completed"
    },
    "tags": []
   },
   "outputs": [],
   "source": [
    "import numpy as np\n",
    "import pandas as pd\n",
    "import matplotlib.pyplot as plt\n",
    "from sklearn.model_selection import train_test_split\n",
    "import seaborn as sns\n",
    "from sklearn.metrics import accuracy_score\n",
    "from sklearn.metrics import classification_report\n",
    "from sklearn.ensemble import RandomForestClassifier"
   ]
  },
  {
   "cell_type": "code",
   "execution_count": 4,
   "id": "2076647c",
   "metadata": {
    "execution": {
     "iopub.execute_input": "2023-12-20T11:09:44.109930Z",
     "iopub.status.busy": "2023-12-20T11:09:44.109171Z",
     "iopub.status.idle": "2023-12-20T11:09:44.220511Z",
     "shell.execute_reply": "2023-12-20T11:09:44.219181Z"
    },
    "papermill": {
     "duration": 0.122094,
     "end_time": "2023-12-20T11:09:44.222861",
     "exception": false,
     "start_time": "2023-12-20T11:09:44.100767",
     "status": "completed"
    },
    "tags": []
   },
   "outputs": [
    {
     "ename": "FileNotFoundError",
     "evalue": "[Errno 2] No such file or directory: '/data/Training.csv'",
     "output_type": "error",
     "traceback": [
      "\u001b[1;31m---------------------------------------------------------------------------\u001b[0m",
      "\u001b[1;31mFileNotFoundError\u001b[0m                         Traceback (most recent call last)",
      "Cell \u001b[1;32mIn[4], line 1\u001b[0m\n\u001b[1;32m----> 1\u001b[0m df \u001b[38;5;241m=\u001b[39m \u001b[43mpd\u001b[49m\u001b[38;5;241;43m.\u001b[39;49m\u001b[43mread_csv\u001b[49m\u001b[43m(\u001b[49m\u001b[38;5;124;43m'\u001b[39;49m\u001b[38;5;124;43m/data/Training.csv\u001b[39;49m\u001b[38;5;124;43m'\u001b[39;49m\u001b[43m)\u001b[49m\n\u001b[0;32m      2\u001b[0m df\u001b[38;5;241m.\u001b[39mcolumns\n",
      "File \u001b[1;32m~\\anaconda3\\lib\\site-packages\\pandas\\util\\_decorators.py:211\u001b[0m, in \u001b[0;36mdeprecate_kwarg.<locals>._deprecate_kwarg.<locals>.wrapper\u001b[1;34m(*args, **kwargs)\u001b[0m\n\u001b[0;32m    209\u001b[0m     \u001b[38;5;28;01melse\u001b[39;00m:\n\u001b[0;32m    210\u001b[0m         kwargs[new_arg_name] \u001b[38;5;241m=\u001b[39m new_arg_value\n\u001b[1;32m--> 211\u001b[0m \u001b[38;5;28;01mreturn\u001b[39;00m func(\u001b[38;5;241m*\u001b[39margs, \u001b[38;5;241m*\u001b[39m\u001b[38;5;241m*\u001b[39mkwargs)\n",
      "File \u001b[1;32m~\\anaconda3\\lib\\site-packages\\pandas\\util\\_decorators.py:331\u001b[0m, in \u001b[0;36mdeprecate_nonkeyword_arguments.<locals>.decorate.<locals>.wrapper\u001b[1;34m(*args, **kwargs)\u001b[0m\n\u001b[0;32m    325\u001b[0m \u001b[38;5;28;01mif\u001b[39;00m \u001b[38;5;28mlen\u001b[39m(args) \u001b[38;5;241m>\u001b[39m num_allow_args:\n\u001b[0;32m    326\u001b[0m     warnings\u001b[38;5;241m.\u001b[39mwarn(\n\u001b[0;32m    327\u001b[0m         msg\u001b[38;5;241m.\u001b[39mformat(arguments\u001b[38;5;241m=\u001b[39m_format_argument_list(allow_args)),\n\u001b[0;32m    328\u001b[0m         \u001b[38;5;167;01mFutureWarning\u001b[39;00m,\n\u001b[0;32m    329\u001b[0m         stacklevel\u001b[38;5;241m=\u001b[39mfind_stack_level(),\n\u001b[0;32m    330\u001b[0m     )\n\u001b[1;32m--> 331\u001b[0m \u001b[38;5;28;01mreturn\u001b[39;00m func(\u001b[38;5;241m*\u001b[39margs, \u001b[38;5;241m*\u001b[39m\u001b[38;5;241m*\u001b[39mkwargs)\n",
      "File \u001b[1;32m~\\anaconda3\\lib\\site-packages\\pandas\\io\\parsers\\readers.py:950\u001b[0m, in \u001b[0;36mread_csv\u001b[1;34m(filepath_or_buffer, sep, delimiter, header, names, index_col, usecols, squeeze, prefix, mangle_dupe_cols, dtype, engine, converters, true_values, false_values, skipinitialspace, skiprows, skipfooter, nrows, na_values, keep_default_na, na_filter, verbose, skip_blank_lines, parse_dates, infer_datetime_format, keep_date_col, date_parser, dayfirst, cache_dates, iterator, chunksize, compression, thousands, decimal, lineterminator, quotechar, quoting, doublequote, escapechar, comment, encoding, encoding_errors, dialect, error_bad_lines, warn_bad_lines, on_bad_lines, delim_whitespace, low_memory, memory_map, float_precision, storage_options)\u001b[0m\n\u001b[0;32m    935\u001b[0m kwds_defaults \u001b[38;5;241m=\u001b[39m _refine_defaults_read(\n\u001b[0;32m    936\u001b[0m     dialect,\n\u001b[0;32m    937\u001b[0m     delimiter,\n\u001b[1;32m   (...)\u001b[0m\n\u001b[0;32m    946\u001b[0m     defaults\u001b[38;5;241m=\u001b[39m{\u001b[38;5;124m\"\u001b[39m\u001b[38;5;124mdelimiter\u001b[39m\u001b[38;5;124m\"\u001b[39m: \u001b[38;5;124m\"\u001b[39m\u001b[38;5;124m,\u001b[39m\u001b[38;5;124m\"\u001b[39m},\n\u001b[0;32m    947\u001b[0m )\n\u001b[0;32m    948\u001b[0m kwds\u001b[38;5;241m.\u001b[39mupdate(kwds_defaults)\n\u001b[1;32m--> 950\u001b[0m \u001b[38;5;28;01mreturn\u001b[39;00m \u001b[43m_read\u001b[49m\u001b[43m(\u001b[49m\u001b[43mfilepath_or_buffer\u001b[49m\u001b[43m,\u001b[49m\u001b[43m \u001b[49m\u001b[43mkwds\u001b[49m\u001b[43m)\u001b[49m\n",
      "File \u001b[1;32m~\\anaconda3\\lib\\site-packages\\pandas\\io\\parsers\\readers.py:605\u001b[0m, in \u001b[0;36m_read\u001b[1;34m(filepath_or_buffer, kwds)\u001b[0m\n\u001b[0;32m    602\u001b[0m _validate_names(kwds\u001b[38;5;241m.\u001b[39mget(\u001b[38;5;124m\"\u001b[39m\u001b[38;5;124mnames\u001b[39m\u001b[38;5;124m\"\u001b[39m, \u001b[38;5;28;01mNone\u001b[39;00m))\n\u001b[0;32m    604\u001b[0m \u001b[38;5;66;03m# Create the parser.\u001b[39;00m\n\u001b[1;32m--> 605\u001b[0m parser \u001b[38;5;241m=\u001b[39m TextFileReader(filepath_or_buffer, \u001b[38;5;241m*\u001b[39m\u001b[38;5;241m*\u001b[39mkwds)\n\u001b[0;32m    607\u001b[0m \u001b[38;5;28;01mif\u001b[39;00m chunksize \u001b[38;5;129;01mor\u001b[39;00m iterator:\n\u001b[0;32m    608\u001b[0m     \u001b[38;5;28;01mreturn\u001b[39;00m parser\n",
      "File \u001b[1;32m~\\anaconda3\\lib\\site-packages\\pandas\\io\\parsers\\readers.py:1442\u001b[0m, in \u001b[0;36mTextFileReader.__init__\u001b[1;34m(self, f, engine, **kwds)\u001b[0m\n\u001b[0;32m   1439\u001b[0m     \u001b[38;5;28mself\u001b[39m\u001b[38;5;241m.\u001b[39moptions[\u001b[38;5;124m\"\u001b[39m\u001b[38;5;124mhas_index_names\u001b[39m\u001b[38;5;124m\"\u001b[39m] \u001b[38;5;241m=\u001b[39m kwds[\u001b[38;5;124m\"\u001b[39m\u001b[38;5;124mhas_index_names\u001b[39m\u001b[38;5;124m\"\u001b[39m]\n\u001b[0;32m   1441\u001b[0m \u001b[38;5;28mself\u001b[39m\u001b[38;5;241m.\u001b[39mhandles: IOHandles \u001b[38;5;241m|\u001b[39m \u001b[38;5;28;01mNone\u001b[39;00m \u001b[38;5;241m=\u001b[39m \u001b[38;5;28;01mNone\u001b[39;00m\n\u001b[1;32m-> 1442\u001b[0m \u001b[38;5;28mself\u001b[39m\u001b[38;5;241m.\u001b[39m_engine \u001b[38;5;241m=\u001b[39m \u001b[38;5;28;43mself\u001b[39;49m\u001b[38;5;241;43m.\u001b[39;49m\u001b[43m_make_engine\u001b[49m\u001b[43m(\u001b[49m\u001b[43mf\u001b[49m\u001b[43m,\u001b[49m\u001b[43m \u001b[49m\u001b[38;5;28;43mself\u001b[39;49m\u001b[38;5;241;43m.\u001b[39;49m\u001b[43mengine\u001b[49m\u001b[43m)\u001b[49m\n",
      "File \u001b[1;32m~\\anaconda3\\lib\\site-packages\\pandas\\io\\parsers\\readers.py:1735\u001b[0m, in \u001b[0;36mTextFileReader._make_engine\u001b[1;34m(self, f, engine)\u001b[0m\n\u001b[0;32m   1733\u001b[0m     \u001b[38;5;28;01mif\u001b[39;00m \u001b[38;5;124m\"\u001b[39m\u001b[38;5;124mb\u001b[39m\u001b[38;5;124m\"\u001b[39m \u001b[38;5;129;01mnot\u001b[39;00m \u001b[38;5;129;01min\u001b[39;00m mode:\n\u001b[0;32m   1734\u001b[0m         mode \u001b[38;5;241m+\u001b[39m\u001b[38;5;241m=\u001b[39m \u001b[38;5;124m\"\u001b[39m\u001b[38;5;124mb\u001b[39m\u001b[38;5;124m\"\u001b[39m\n\u001b[1;32m-> 1735\u001b[0m \u001b[38;5;28mself\u001b[39m\u001b[38;5;241m.\u001b[39mhandles \u001b[38;5;241m=\u001b[39m \u001b[43mget_handle\u001b[49m\u001b[43m(\u001b[49m\n\u001b[0;32m   1736\u001b[0m \u001b[43m    \u001b[49m\u001b[43mf\u001b[49m\u001b[43m,\u001b[49m\n\u001b[0;32m   1737\u001b[0m \u001b[43m    \u001b[49m\u001b[43mmode\u001b[49m\u001b[43m,\u001b[49m\n\u001b[0;32m   1738\u001b[0m \u001b[43m    \u001b[49m\u001b[43mencoding\u001b[49m\u001b[38;5;241;43m=\u001b[39;49m\u001b[38;5;28;43mself\u001b[39;49m\u001b[38;5;241;43m.\u001b[39;49m\u001b[43moptions\u001b[49m\u001b[38;5;241;43m.\u001b[39;49m\u001b[43mget\u001b[49m\u001b[43m(\u001b[49m\u001b[38;5;124;43m\"\u001b[39;49m\u001b[38;5;124;43mencoding\u001b[39;49m\u001b[38;5;124;43m\"\u001b[39;49m\u001b[43m,\u001b[49m\u001b[43m \u001b[49m\u001b[38;5;28;43;01mNone\u001b[39;49;00m\u001b[43m)\u001b[49m\u001b[43m,\u001b[49m\n\u001b[0;32m   1739\u001b[0m \u001b[43m    \u001b[49m\u001b[43mcompression\u001b[49m\u001b[38;5;241;43m=\u001b[39;49m\u001b[38;5;28;43mself\u001b[39;49m\u001b[38;5;241;43m.\u001b[39;49m\u001b[43moptions\u001b[49m\u001b[38;5;241;43m.\u001b[39;49m\u001b[43mget\u001b[49m\u001b[43m(\u001b[49m\u001b[38;5;124;43m\"\u001b[39;49m\u001b[38;5;124;43mcompression\u001b[39;49m\u001b[38;5;124;43m\"\u001b[39;49m\u001b[43m,\u001b[49m\u001b[43m \u001b[49m\u001b[38;5;28;43;01mNone\u001b[39;49;00m\u001b[43m)\u001b[49m\u001b[43m,\u001b[49m\n\u001b[0;32m   1740\u001b[0m \u001b[43m    \u001b[49m\u001b[43mmemory_map\u001b[49m\u001b[38;5;241;43m=\u001b[39;49m\u001b[38;5;28;43mself\u001b[39;49m\u001b[38;5;241;43m.\u001b[39;49m\u001b[43moptions\u001b[49m\u001b[38;5;241;43m.\u001b[39;49m\u001b[43mget\u001b[49m\u001b[43m(\u001b[49m\u001b[38;5;124;43m\"\u001b[39;49m\u001b[38;5;124;43mmemory_map\u001b[39;49m\u001b[38;5;124;43m\"\u001b[39;49m\u001b[43m,\u001b[49m\u001b[43m \u001b[49m\u001b[38;5;28;43;01mFalse\u001b[39;49;00m\u001b[43m)\u001b[49m\u001b[43m,\u001b[49m\n\u001b[0;32m   1741\u001b[0m \u001b[43m    \u001b[49m\u001b[43mis_text\u001b[49m\u001b[38;5;241;43m=\u001b[39;49m\u001b[43mis_text\u001b[49m\u001b[43m,\u001b[49m\n\u001b[0;32m   1742\u001b[0m \u001b[43m    \u001b[49m\u001b[43merrors\u001b[49m\u001b[38;5;241;43m=\u001b[39;49m\u001b[38;5;28;43mself\u001b[39;49m\u001b[38;5;241;43m.\u001b[39;49m\u001b[43moptions\u001b[49m\u001b[38;5;241;43m.\u001b[39;49m\u001b[43mget\u001b[49m\u001b[43m(\u001b[49m\u001b[38;5;124;43m\"\u001b[39;49m\u001b[38;5;124;43mencoding_errors\u001b[39;49m\u001b[38;5;124;43m\"\u001b[39;49m\u001b[43m,\u001b[49m\u001b[43m \u001b[49m\u001b[38;5;124;43m\"\u001b[39;49m\u001b[38;5;124;43mstrict\u001b[39;49m\u001b[38;5;124;43m\"\u001b[39;49m\u001b[43m)\u001b[49m\u001b[43m,\u001b[49m\n\u001b[0;32m   1743\u001b[0m \u001b[43m    \u001b[49m\u001b[43mstorage_options\u001b[49m\u001b[38;5;241;43m=\u001b[39;49m\u001b[38;5;28;43mself\u001b[39;49m\u001b[38;5;241;43m.\u001b[39;49m\u001b[43moptions\u001b[49m\u001b[38;5;241;43m.\u001b[39;49m\u001b[43mget\u001b[49m\u001b[43m(\u001b[49m\u001b[38;5;124;43m\"\u001b[39;49m\u001b[38;5;124;43mstorage_options\u001b[39;49m\u001b[38;5;124;43m\"\u001b[39;49m\u001b[43m,\u001b[49m\u001b[43m \u001b[49m\u001b[38;5;28;43;01mNone\u001b[39;49;00m\u001b[43m)\u001b[49m\u001b[43m,\u001b[49m\n\u001b[0;32m   1744\u001b[0m \u001b[43m\u001b[49m\u001b[43m)\u001b[49m\n\u001b[0;32m   1745\u001b[0m \u001b[38;5;28;01massert\u001b[39;00m \u001b[38;5;28mself\u001b[39m\u001b[38;5;241m.\u001b[39mhandles \u001b[38;5;129;01mis\u001b[39;00m \u001b[38;5;129;01mnot\u001b[39;00m \u001b[38;5;28;01mNone\u001b[39;00m\n\u001b[0;32m   1746\u001b[0m f \u001b[38;5;241m=\u001b[39m \u001b[38;5;28mself\u001b[39m\u001b[38;5;241m.\u001b[39mhandles\u001b[38;5;241m.\u001b[39mhandle\n",
      "File \u001b[1;32m~\\anaconda3\\lib\\site-packages\\pandas\\io\\common.py:856\u001b[0m, in \u001b[0;36mget_handle\u001b[1;34m(path_or_buf, mode, encoding, compression, memory_map, is_text, errors, storage_options)\u001b[0m\n\u001b[0;32m    851\u001b[0m \u001b[38;5;28;01melif\u001b[39;00m \u001b[38;5;28misinstance\u001b[39m(handle, \u001b[38;5;28mstr\u001b[39m):\n\u001b[0;32m    852\u001b[0m     \u001b[38;5;66;03m# Check whether the filename is to be opened in binary mode.\u001b[39;00m\n\u001b[0;32m    853\u001b[0m     \u001b[38;5;66;03m# Binary mode does not support 'encoding' and 'newline'.\u001b[39;00m\n\u001b[0;32m    854\u001b[0m     \u001b[38;5;28;01mif\u001b[39;00m ioargs\u001b[38;5;241m.\u001b[39mencoding \u001b[38;5;129;01mand\u001b[39;00m \u001b[38;5;124m\"\u001b[39m\u001b[38;5;124mb\u001b[39m\u001b[38;5;124m\"\u001b[39m \u001b[38;5;129;01mnot\u001b[39;00m \u001b[38;5;129;01min\u001b[39;00m ioargs\u001b[38;5;241m.\u001b[39mmode:\n\u001b[0;32m    855\u001b[0m         \u001b[38;5;66;03m# Encoding\u001b[39;00m\n\u001b[1;32m--> 856\u001b[0m         handle \u001b[38;5;241m=\u001b[39m \u001b[38;5;28;43mopen\u001b[39;49m\u001b[43m(\u001b[49m\n\u001b[0;32m    857\u001b[0m \u001b[43m            \u001b[49m\u001b[43mhandle\u001b[49m\u001b[43m,\u001b[49m\n\u001b[0;32m    858\u001b[0m \u001b[43m            \u001b[49m\u001b[43mioargs\u001b[49m\u001b[38;5;241;43m.\u001b[39;49m\u001b[43mmode\u001b[49m\u001b[43m,\u001b[49m\n\u001b[0;32m    859\u001b[0m \u001b[43m            \u001b[49m\u001b[43mencoding\u001b[49m\u001b[38;5;241;43m=\u001b[39;49m\u001b[43mioargs\u001b[49m\u001b[38;5;241;43m.\u001b[39;49m\u001b[43mencoding\u001b[49m\u001b[43m,\u001b[49m\n\u001b[0;32m    860\u001b[0m \u001b[43m            \u001b[49m\u001b[43merrors\u001b[49m\u001b[38;5;241;43m=\u001b[39;49m\u001b[43merrors\u001b[49m\u001b[43m,\u001b[49m\n\u001b[0;32m    861\u001b[0m \u001b[43m            \u001b[49m\u001b[43mnewline\u001b[49m\u001b[38;5;241;43m=\u001b[39;49m\u001b[38;5;124;43m\"\u001b[39;49m\u001b[38;5;124;43m\"\u001b[39;49m\u001b[43m,\u001b[49m\n\u001b[0;32m    862\u001b[0m \u001b[43m        \u001b[49m\u001b[43m)\u001b[49m\n\u001b[0;32m    863\u001b[0m     \u001b[38;5;28;01melse\u001b[39;00m:\n\u001b[0;32m    864\u001b[0m         \u001b[38;5;66;03m# Binary mode\u001b[39;00m\n\u001b[0;32m    865\u001b[0m         handle \u001b[38;5;241m=\u001b[39m \u001b[38;5;28mopen\u001b[39m(handle, ioargs\u001b[38;5;241m.\u001b[39mmode)\n",
      "\u001b[1;31mFileNotFoundError\u001b[0m: [Errno 2] No such file or directory: '/data/Training.csv'"
     ]
    }
   ],
   "source": [
    "df = pd.read_csv('Training.csv')\n",
    "df.columns"
   ]
  },
  {
   "cell_type": "code",
   "execution_count": null,
   "id": "dbd8cd88",
   "metadata": {
    "execution": {
     "iopub.execute_input": "2023-12-20T11:09:44.239276Z",
     "iopub.status.busy": "2023-12-20T11:09:44.238272Z",
     "iopub.status.idle": "2023-12-20T11:09:44.244452Z",
     "shell.execute_reply": "2023-12-20T11:09:44.243134Z"
    },
    "papermill": {
     "duration": 0.016512,
     "end_time": "2023-12-20T11:09:44.246562",
     "exception": false,
     "start_time": "2023-12-20T11:09:44.230050",
     "status": "completed"
    },
    "tags": []
   },
   "outputs": [],
   "source": [
    "print(len(df.columns))"
   ]
  },
  {
   "cell_type": "code",
   "execution_count": null,
   "id": "0a1b0030",
   "metadata": {
    "execution": {
     "iopub.execute_input": "2023-12-20T11:09:44.262750Z",
     "iopub.status.busy": "2023-12-20T11:09:44.262029Z",
     "iopub.status.idle": "2023-12-20T11:09:44.547482Z",
     "shell.execute_reply": "2023-12-20T11:09:44.546249Z"
    },
    "papermill": {
     "duration": 0.296709,
     "end_time": "2023-12-20T11:09:44.550458",
     "exception": false,
     "start_time": "2023-12-20T11:09:44.253749",
     "status": "completed"
    },
    "tags": []
   },
   "outputs": [],
   "source": [
    "df.describe()"
   ]
  },
  {
   "cell_type": "code",
   "execution_count": null,
   "id": "c1870473",
   "metadata": {
    "execution": {
     "iopub.execute_input": "2023-12-20T11:09:44.567850Z",
     "iopub.status.busy": "2023-12-20T11:09:44.567452Z",
     "iopub.status.idle": "2023-12-20T11:09:44.592802Z",
     "shell.execute_reply": "2023-12-20T11:09:44.591732Z"
    },
    "papermill": {
     "duration": 0.036432,
     "end_time": "2023-12-20T11:09:44.595052",
     "exception": false,
     "start_time": "2023-12-20T11:09:44.558620",
     "status": "completed"
    },
    "tags": []
   },
   "outputs": [],
   "source": [
    "df.info()"
   ]
  },
  {
   "cell_type": "code",
   "execution_count": null,
   "id": "1d0d1371",
   "metadata": {
    "execution": {
     "iopub.execute_input": "2023-12-20T11:09:44.612168Z",
     "iopub.status.busy": "2023-12-20T11:09:44.611545Z",
     "iopub.status.idle": "2023-12-20T11:09:44.620621Z",
     "shell.execute_reply": "2023-12-20T11:09:44.619621Z"
    },
    "papermill": {
     "duration": 0.020465,
     "end_time": "2023-12-20T11:09:44.623015",
     "exception": false,
     "start_time": "2023-12-20T11:09:44.602550",
     "status": "completed"
    },
    "tags": []
   },
   "outputs": [],
   "source": [
    "num = ['itching', 'skin_rash', 'nodal_skin_eruptions', 'continuous_sneezing', 'shivering', 'chills', 'joint_pain', \n",
    "       'stomach_pain', 'acidity', 'ulcers_on_tongue', 'muscle_wasting', 'vomiting', 'burning_micturition', \n",
    "       'spotting_ urination', 'fatigue', 'weight_gain', 'anxiety', 'cold_hands_and_feets', 'mood_swings', \n",
    "       'weight_loss', 'restlessness', 'lethargy', 'patches_in_throat', 'irregular_sugar_level', 'cough', \n",
    "       'high_fever', 'sunken_eyes', 'breathlessness', 'sweating', 'dehydration', 'indigestion', 'headache', \n",
    "       'yellowish_skin', 'dark_urine', 'nausea', 'loss_of_appetite', 'pain_behind_the_eyes', 'back_pain', \n",
    "       'constipation', 'abdominal_pain', 'diarrhoea', 'mild_fever', 'yellow_urine', 'yellowing_of_eyes', \n",
    "       'acute_liver_failure', 'fluid_overload', 'swelling_of_stomach', 'swelled_lymph_nodes', 'malaise', \n",
    "       'blurred_and_distorted_vision', 'phlegm', 'throat_irritation', 'redness_of_eyes', 'sinus_pressure', \n",
    "       'runny_nose', 'congestion', 'chest_pain', 'weakness_in_limbs', 'fast_heart_rate', \n",
    "       'pain_during_bowel_movements', 'pain_in_anal_region', 'bloody_stool', 'irritation_in_anus', 'neck_pain', \n",
    "       'dizziness', 'cramps', 'bruising', 'obesity', 'swollen_legs', 'swollen_blood_vessels', 'puffy_face_and_eyes', \n",
    "       'enlarged_thyroid', 'brittle_nails', 'swollen_extremeties', 'excessive_hunger', 'extra_marital_contacts', \n",
    "       'drying_and_tingling_lips', 'slurred_speech', 'knee_pain', 'hip_joint_pain', 'muscle_weakness', 'stiff_neck', \n",
    "       'swelling_joints', 'movement_stiffness', 'spinning_movements', 'loss_of_balance', 'unsteadiness', \n",
    "       'weakness_of_one_body_side', 'loss_of_smell', 'bladder_discomfort', 'foul_smell_of urine',\n",
    "       'continuous_feel_of_urine', 'passage_of_gases', 'internal_itching', 'toxic_look_(typhos)', 'depression',\n",
    "       'irritability', 'muscle_pain', 'altered_sensorium', 'red_spots_over_body', 'belly_pain', \n",
    "       'abnormal_menstruation', 'dischromic _patches', 'watering_from_eyes', 'increased_appetite', \n",
    "       'polyuria', 'family_history', 'mucoid_sputum', 'rusty_sputum', 'lack_of_concentration', \n",
    "       'visual_disturbances', 'receiving_blood_transfusion', 'receiving_unsterile_injections', 'coma', \n",
    "       'stomach_bleeding', 'distention_of_abdomen', 'history_of_alcohol_consumption', 'fluid_overload.1', \n",
    "       'blood_in_sputum', 'prominent_veins_on_calf', 'palpitations', 'painful_walking', 'pus_filled_pimples', \n",
    "       'blackheads', 'scurring', 'skin_peeling', 'silver_like_dusting', 'small_dents_in_nails', 'inflammatory_nails',\n",
    "       'blister', 'red_sore_around_nose', 'yellow_crust_ooze']"
   ]
  },
  {
   "cell_type": "code",
   "execution_count": null,
   "id": "ec928135",
   "metadata": {
    "execution": {
     "iopub.execute_input": "2023-12-20T11:09:44.640317Z",
     "iopub.status.busy": "2023-12-20T11:09:44.639939Z",
     "iopub.status.idle": "2023-12-20T11:09:46.351393Z",
     "shell.execute_reply": "2023-12-20T11:09:46.349790Z"
    },
    "papermill": {
     "duration": 1.724816,
     "end_time": "2023-12-20T11:09:46.356059",
     "exception": false,
     "start_time": "2023-12-20T11:09:44.631243",
     "status": "completed"
    },
    "tags": []
   },
   "outputs": [],
   "source": [
    "sns.set(rc={\"figure.figsize\":(10, 10)})\n",
    "sns.heatmap(df[num].corr(),cbar=True)"
   ]
  },
  {
   "cell_type": "code",
   "execution_count": null,
   "id": "44466171",
   "metadata": {
    "execution": {
     "iopub.execute_input": "2023-12-20T11:09:46.385027Z",
     "iopub.status.busy": "2023-12-20T11:09:46.384325Z",
     "iopub.status.idle": "2023-12-20T11:09:46.396549Z",
     "shell.execute_reply": "2023-12-20T11:09:46.395656Z"
    },
    "papermill": {
     "duration": 0.028526,
     "end_time": "2023-12-20T11:09:46.398807",
     "exception": false,
     "start_time": "2023-12-20T11:09:46.370281",
     "status": "completed"
    },
    "tags": []
   },
   "outputs": [],
   "source": [
    "df.isna().sum().sort_values(ascending = False)"
   ]
  },
  {
   "cell_type": "code",
   "execution_count": null,
   "id": "6847e2f2",
   "metadata": {
    "execution": {
     "iopub.execute_input": "2023-12-20T11:09:46.423051Z",
     "iopub.status.busy": "2023-12-20T11:09:46.422685Z",
     "iopub.status.idle": "2023-12-20T11:09:46.430312Z",
     "shell.execute_reply": "2023-12-20T11:09:46.429534Z"
    },
    "papermill": {
     "duration": 0.022251,
     "end_time": "2023-12-20T11:09:46.432275",
     "exception": false,
     "start_time": "2023-12-20T11:09:46.410024",
     "status": "completed"
    },
    "tags": []
   },
   "outputs": [],
   "source": [
    "df = df.drop(['Unnamed: 133'], axis=1)"
   ]
  },
  {
   "cell_type": "code",
   "execution_count": null,
   "id": "5247bc87",
   "metadata": {
    "execution": {
     "iopub.execute_input": "2023-12-20T11:09:46.457078Z",
     "iopub.status.busy": "2023-12-20T11:09:46.456374Z",
     "iopub.status.idle": "2023-12-20T11:09:46.462212Z",
     "shell.execute_reply": "2023-12-20T11:09:46.461383Z"
    },
    "papermill": {
     "duration": 0.020349,
     "end_time": "2023-12-20T11:09:46.464080",
     "exception": false,
     "start_time": "2023-12-20T11:09:46.443731",
     "status": "completed"
    },
    "tags": []
   },
   "outputs": [],
   "source": [
    "df.columns"
   ]
  },
  {
   "cell_type": "code",
   "execution_count": null,
   "id": "5271b95c",
   "metadata": {
    "execution": {
     "iopub.execute_input": "2023-12-20T11:09:46.489358Z",
     "iopub.status.busy": "2023-12-20T11:09:46.488946Z",
     "iopub.status.idle": "2023-12-20T11:09:46.497799Z",
     "shell.execute_reply": "2023-12-20T11:09:46.496772Z"
    },
    "papermill": {
     "duration": 0.024501,
     "end_time": "2023-12-20T11:09:46.499791",
     "exception": false,
     "start_time": "2023-12-20T11:09:46.475290",
     "status": "completed"
    },
    "tags": []
   },
   "outputs": [],
   "source": [
    "df['prognosis'].value_counts()"
   ]
  },
  {
   "cell_type": "code",
   "execution_count": null,
   "id": "b510a462",
   "metadata": {
    "execution": {
     "iopub.execute_input": "2023-12-20T11:09:46.525236Z",
     "iopub.status.busy": "2023-12-20T11:09:46.524810Z",
     "iopub.status.idle": "2023-12-20T11:09:47.425724Z",
     "shell.execute_reply": "2023-12-20T11:09:47.424486Z"
    },
    "papermill": {
     "duration": 0.917597,
     "end_time": "2023-12-20T11:09:47.429001",
     "exception": false,
     "start_time": "2023-12-20T11:09:46.511404",
     "status": "completed"
    },
    "tags": []
   },
   "outputs": [],
   "source": [
    "plt.figure(figsize= (10,6))\n",
    "sns.countplot(data = df, x= 'prognosis')\n",
    "plt.xticks(rotation=90)\n",
    "plt.xlabel('Diseases');\n"
   ]
  },
  {
   "cell_type": "code",
   "execution_count": null,
   "id": "8968ef33",
   "metadata": {
    "execution": {
     "iopub.execute_input": "2023-12-20T11:09:47.457172Z",
     "iopub.status.busy": "2023-12-20T11:09:47.456773Z",
     "iopub.status.idle": "2023-12-20T11:09:47.482042Z",
     "shell.execute_reply": "2023-12-20T11:09:47.480977Z"
    },
    "papermill": {
     "duration": 0.041855,
     "end_time": "2023-12-20T11:09:47.484359",
     "exception": false,
     "start_time": "2023-12-20T11:09:47.442504",
     "status": "completed"
    },
    "tags": []
   },
   "outputs": [],
   "source": [
    "x = df.iloc[:,:-1]\n",
    "x"
   ]
  },
  {
   "cell_type": "code",
   "execution_count": null,
   "id": "763fc53e",
   "metadata": {
    "execution": {
     "iopub.execute_input": "2023-12-20T11:09:47.512710Z",
     "iopub.status.busy": "2023-12-20T11:09:47.511869Z",
     "iopub.status.idle": "2023-12-20T11:09:47.520942Z",
     "shell.execute_reply": "2023-12-20T11:09:47.519947Z"
    },
    "papermill": {
     "duration": 0.025592,
     "end_time": "2023-12-20T11:09:47.523066",
     "exception": false,
     "start_time": "2023-12-20T11:09:47.497474",
     "status": "completed"
    },
    "tags": []
   },
   "outputs": [],
   "source": [
    "y = df.iloc[:, -1]\n",
    "y"
   ]
  },
  {
   "cell_type": "code",
   "execution_count": null,
   "id": "1fcb522a",
   "metadata": {
    "execution": {
     "iopub.execute_input": "2023-12-20T11:09:47.551477Z",
     "iopub.status.busy": "2023-12-20T11:09:47.551056Z",
     "iopub.status.idle": "2023-12-20T11:09:47.557899Z",
     "shell.execute_reply": "2023-12-20T11:09:47.557202Z"
    },
    "papermill": {
     "duration": 0.023633,
     "end_time": "2023-12-20T11:09:47.560055",
     "exception": false,
     "start_time": "2023-12-20T11:09:47.536422",
     "status": "completed"
    },
    "tags": []
   },
   "outputs": [],
   "source": [
    "mylabels = list(y.unique())\n",
    "mylabels\n",
    "\n"
   ]
  },
  {
   "cell_type": "code",
   "execution_count": null,
   "id": "73782ef3",
   "metadata": {
    "execution": {
     "iopub.execute_input": "2023-12-20T11:09:47.588675Z",
     "iopub.status.busy": "2023-12-20T11:09:47.588252Z",
     "iopub.status.idle": "2023-12-20T11:09:47.594689Z",
     "shell.execute_reply": "2023-12-20T11:09:47.593669Z"
    },
    "papermill": {
     "duration": 0.023413,
     "end_time": "2023-12-20T11:09:47.596877",
     "exception": false,
     "start_time": "2023-12-20T11:09:47.573464",
     "status": "completed"
    },
    "tags": []
   },
   "outputs": [],
   "source": [
    "y = df['prognosis'].value_counts()"
   ]
  },
  {
   "cell_type": "code",
   "execution_count": null,
   "id": "7efb0fba",
   "metadata": {
    "execution": {
     "iopub.execute_input": "2023-12-20T11:09:47.625825Z",
     "iopub.status.busy": "2023-12-20T11:09:47.625424Z",
     "iopub.status.idle": "2023-12-20T11:09:48.158986Z",
     "shell.execute_reply": "2023-12-20T11:09:48.157813Z"
    },
    "papermill": {
     "duration": 0.554039,
     "end_time": "2023-12-20T11:09:48.164467",
     "exception": false,
     "start_time": "2023-12-20T11:09:47.610428",
     "status": "completed"
    },
    "tags": []
   },
   "outputs": [],
   "source": [
    "plt.figure(figsize= (12,12))\n",
    "plt.pie(y, labels = mylabels, startangle = 90)\n",
    "plt.show() "
   ]
  },
  {
   "cell_type": "code",
   "execution_count": null,
   "id": "dbbfdb81",
   "metadata": {
    "execution": {
     "iopub.execute_input": "2023-12-20T11:09:48.202207Z",
     "iopub.status.busy": "2023-12-20T11:09:48.201758Z",
     "iopub.status.idle": "2023-12-20T11:09:48.206502Z",
     "shell.execute_reply": "2023-12-20T11:09:48.205464Z"
    },
    "papermill": {
     "duration": 0.026139,
     "end_time": "2023-12-20T11:09:48.208499",
     "exception": false,
     "start_time": "2023-12-20T11:09:48.182360",
     "status": "completed"
    },
    "tags": []
   },
   "outputs": [],
   "source": [
    "from sklearn.preprocessing import LabelEncoder\n",
    "#encoder = LabelEncoder()\n",
    "#df[\"prognosis\"] = encoder.fit_transform(df[\"prognosis\"])"
   ]
  },
  {
   "cell_type": "code",
   "execution_count": null,
   "id": "742c9870",
   "metadata": {
    "execution": {
     "iopub.execute_input": "2023-12-20T11:09:48.246427Z",
     "iopub.status.busy": "2023-12-20T11:09:48.246030Z",
     "iopub.status.idle": "2023-12-20T11:09:48.250844Z",
     "shell.execute_reply": "2023-12-20T11:09:48.249640Z"
    },
    "papermill": {
     "duration": 0.026335,
     "end_time": "2023-12-20T11:09:48.252926",
     "exception": false,
     "start_time": "2023-12-20T11:09:48.226591",
     "status": "completed"
    },
    "tags": []
   },
   "outputs": [],
   "source": [
    "y = df.iloc[:, -1]"
   ]
  },
  {
   "cell_type": "code",
   "execution_count": null,
   "id": "073929fa",
   "metadata": {
    "execution": {
     "iopub.execute_input": "2023-12-20T11:09:48.290388Z",
     "iopub.status.busy": "2023-12-20T11:09:48.289717Z",
     "iopub.status.idle": "2023-12-20T11:09:48.296997Z",
     "shell.execute_reply": "2023-12-20T11:09:48.296286Z"
    },
    "papermill": {
     "duration": 0.028101,
     "end_time": "2023-12-20T11:09:48.298858",
     "exception": false,
     "start_time": "2023-12-20T11:09:48.270757",
     "status": "completed"
    },
    "tags": []
   },
   "outputs": [],
   "source": [
    "y.head(10)"
   ]
  },
  {
   "cell_type": "code",
   "execution_count": null,
   "id": "173418b3",
   "metadata": {
    "execution": {
     "iopub.execute_input": "2023-12-20T11:09:48.336630Z",
     "iopub.status.busy": "2023-12-20T11:09:48.336204Z",
     "iopub.status.idle": "2023-12-20T11:09:48.361423Z",
     "shell.execute_reply": "2023-12-20T11:09:48.360420Z"
    },
    "papermill": {
     "duration": 0.046827,
     "end_time": "2023-12-20T11:09:48.363772",
     "exception": false,
     "start_time": "2023-12-20T11:09:48.316945",
     "status": "completed"
    },
    "tags": []
   },
   "outputs": [],
   "source": [
    "train_x, val_x, train_label, val_label = train_test_split(x, y , test_size=0.2, random_state=13)\n",
    "train_x\n"
   ]
  },
  {
   "cell_type": "code",
   "execution_count": null,
   "id": "f9cae473",
   "metadata": {
    "execution": {
     "iopub.execute_input": "2023-12-20T11:09:48.402597Z",
     "iopub.status.busy": "2023-12-20T11:09:48.402204Z",
     "iopub.status.idle": "2023-12-20T11:09:48.422698Z",
     "shell.execute_reply": "2023-12-20T11:09:48.421668Z"
    },
    "papermill": {
     "duration": 0.042637,
     "end_time": "2023-12-20T11:09:48.425054",
     "exception": false,
     "start_time": "2023-12-20T11:09:48.382417",
     "status": "completed"
    },
    "tags": []
   },
   "outputs": [],
   "source": [
    "val_x"
   ]
  },
  {
   "cell_type": "code",
   "execution_count": null,
   "id": "2b957fcf",
   "metadata": {
    "execution": {
     "iopub.execute_input": "2023-12-20T11:09:48.467969Z",
     "iopub.status.busy": "2023-12-20T11:09:48.467562Z",
     "iopub.status.idle": "2023-12-20T11:09:48.475594Z",
     "shell.execute_reply": "2023-12-20T11:09:48.474512Z"
    },
    "papermill": {
     "duration": 0.031552,
     "end_time": "2023-12-20T11:09:48.477694",
     "exception": false,
     "start_time": "2023-12-20T11:09:48.446142",
     "status": "completed"
    },
    "tags": []
   },
   "outputs": [],
   "source": [
    "train_label"
   ]
  },
  {
   "cell_type": "code",
   "execution_count": null,
   "id": "4d51dcec",
   "metadata": {
    "execution": {
     "iopub.execute_input": "2023-12-20T11:09:48.517835Z",
     "iopub.status.busy": "2023-12-20T11:09:48.516764Z",
     "iopub.status.idle": "2023-12-20T11:09:48.522233Z",
     "shell.execute_reply": "2023-12-20T11:09:48.521485Z"
    },
    "papermill": {
     "duration": 0.027559,
     "end_time": "2023-12-20T11:09:48.524127",
     "exception": false,
     "start_time": "2023-12-20T11:09:48.496568",
     "status": "completed"
    },
    "tags": []
   },
   "outputs": [],
   "source": [
    "def model_test(model,train_x, val_x, train_label, val_label):\n",
    "    model.fit(train_x, train_label)\n",
    "    pred=model.predict(val_x)\n",
    "    print(\"accuracy score = \",accuracy_score(val_label,pred))\n",
    "    print(\"\\n Classification report\")\n",
    "    print(classification_report(val_label,pred))"
   ]
  },
  {
   "cell_type": "code",
   "execution_count": null,
   "id": "571f4546",
   "metadata": {
    "execution": {
     "iopub.execute_input": "2023-12-20T11:09:48.565305Z",
     "iopub.status.busy": "2023-12-20T11:09:48.564903Z",
     "iopub.status.idle": "2023-12-20T11:09:50.694767Z",
     "shell.execute_reply": "2023-12-20T11:09:50.693160Z"
    },
    "papermill": {
     "duration": 2.153025,
     "end_time": "2023-12-20T11:09:50.696998",
     "exception": false,
     "start_time": "2023-12-20T11:09:48.543973",
     "status": "completed"
    },
    "tags": []
   },
   "outputs": [],
   "source": [
    "rf = RandomForestClassifier(n_estimators=100,max_features=85,random_state=42)\n",
    "model_test(rf,train_x, val_x, train_label, val_label)"
   ]
  },
  {
   "cell_type": "code",
   "execution_count": null,
   "id": "a9ee9bd2",
   "metadata": {
    "execution": {
     "iopub.execute_input": "2023-12-20T11:09:50.737996Z",
     "iopub.status.busy": "2023-12-20T11:09:50.737402Z",
     "iopub.status.idle": "2023-12-20T11:09:50.806290Z",
     "shell.execute_reply": "2023-12-20T11:09:50.805422Z"
    },
    "papermill": {
     "duration": 0.092323,
     "end_time": "2023-12-20T11:09:50.808834",
     "exception": false,
     "start_time": "2023-12-20T11:09:50.716511",
     "status": "completed"
    },
    "tags": []
   },
   "outputs": [],
   "source": [
    "df_test = pd.read_csv('/kaggle/input/disease-prediction-using-machine-learning/Training.csv')\n",
    "X = df_test.drop('prognosis',axis=1)\n",
    "y = df_test['prognosis']"
   ]
  },
  {
   "cell_type": "code",
   "execution_count": null,
   "id": "974728a3",
   "metadata": {
    "execution": {
     "iopub.execute_input": "2023-12-20T11:09:50.849734Z",
     "iopub.status.busy": "2023-12-20T11:09:50.849090Z",
     "iopub.status.idle": "2023-12-20T11:09:50.854438Z",
     "shell.execute_reply": "2023-12-20T11:09:50.853614Z"
    },
    "papermill": {
     "duration": 0.028378,
     "end_time": "2023-12-20T11:09:50.856491",
     "exception": false,
     "start_time": "2023-12-20T11:09:50.828113",
     "status": "completed"
    },
    "tags": []
   },
   "outputs": [],
   "source": [
    "def test_accuracy(model,X):\n",
    "    \n",
    "    #predict\n",
    "    pred = model.predict(X)\n",
    "    \n",
    "    #accuracy score\n",
    "    print(\"accuracy score = \",accuracy_score(y,pred))\n",
    "    \n",
    "    #classification report\n",
    "    print(\"\\n\",classification_report(y,pred))"
   ]
  },
  {
   "cell_type": "code",
   "execution_count": null,
   "id": "8a9471b6",
   "metadata": {
    "execution": {
     "iopub.execute_input": "2023-12-20T11:09:50.896845Z",
     "iopub.status.busy": "2023-12-20T11:09:50.896177Z",
     "iopub.status.idle": "2023-12-20T11:09:50.919826Z",
     "shell.execute_reply": "2023-12-20T11:09:50.919025Z"
    },
    "papermill": {
     "duration": 0.046179,
     "end_time": "2023-12-20T11:09:50.921785",
     "exception": false,
     "start_time": "2023-12-20T11:09:50.875606",
     "status": "completed"
    },
    "tags": []
   },
   "outputs": [],
   "source": [
    "X"
   ]
  },
  {
   "cell_type": "code",
   "execution_count": null,
   "id": "f9d09587",
   "metadata": {
    "execution": {
     "iopub.execute_input": "2023-12-20T11:09:50.962899Z",
     "iopub.status.busy": "2023-12-20T11:09:50.962107Z",
     "iopub.status.idle": "2023-12-20T11:09:50.970002Z",
     "shell.execute_reply": "2023-12-20T11:09:50.969023Z"
    },
    "papermill": {
     "duration": 0.030804,
     "end_time": "2023-12-20T11:09:50.972253",
     "exception": false,
     "start_time": "2023-12-20T11:09:50.941449",
     "status": "completed"
    },
    "tags": []
   },
   "outputs": [],
   "source": [
    "y"
   ]
  }
 ],
 "metadata": {
  "kaggle": {
   "accelerator": "none",
   "dataSources": [
    {
     "datasetId": 654897,
     "sourceId": 1157702,
     "sourceType": "datasetVersion"
    }
   ],
   "dockerImageVersionId": 30626,
   "isGpuEnabled": false,
   "isInternetEnabled": true,
   "language": "python",
   "sourceType": "notebook"
  },
  "kernelspec": {
   "display_name": "Python 3 (ipykernel)",
   "language": "python",
   "name": "python3"
  },
  "language_info": {
   "codemirror_mode": {
    "name": "ipython",
    "version": 3
   },
   "file_extension": ".py",
   "mimetype": "text/x-python",
   "name": "python",
   "nbconvert_exporter": "python",
   "pygments_lexer": "ipython3",
   "version": "3.10.9"
  },
  "papermill": {
   "default_parameters": {},
   "duration": 14.176132,
   "end_time": "2023-12-20T11:09:51.671101",
   "environment_variables": {},
   "exception": null,
   "input_path": "__notebook__.ipynb",
   "output_path": "__notebook__.ipynb",
   "parameters": {},
   "start_time": "2023-12-20T11:09:37.494969",
   "version": "2.4.0"
  }
 },
 "nbformat": 4,
 "nbformat_minor": 5
}
